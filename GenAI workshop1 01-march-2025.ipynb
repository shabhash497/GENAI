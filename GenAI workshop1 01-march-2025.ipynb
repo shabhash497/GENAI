{
  "cells": [
    {
      "cell_type": "markdown",
      "metadata": {
        "id": "view-in-github",
        "colab_type": "text"
      },
      "source": [
        "<a href=\"https://colab.research.google.com/github/shabhash497/GENAI/blob/main/GenAI%20workshop1%2001-march-2025.ipynb\" target=\"_parent\"><img src=\"https://colab.research.google.com/assets/colab-badge.svg\" alt=\"Open In Colab\"/></a>"
      ]
    },
    {
      "cell_type": "code",
      "execution_count": null,
      "id": "10271975-aff2-4041-a561-ea0eb765eb19",
      "metadata": {
        "id": "10271975-aff2-4041-a561-ea0eb765eb19",
        "outputId": "e2d151f1-d027-4664-b248-c982586263bd"
      },
      "outputs": [
        {
          "name": "stdout",
          "output_type": "stream",
          "text": [
            "Note: you may need to restart the kernel to use updated packages.\n"
          ]
        }
      ],
      "source": [
        "pip install -q -U google-genai"
      ]
    },
    {
      "cell_type": "code",
      "source": [
        "from google.colab import userdata\n",
        "gemini_key=userdata.get('gemini_key')\n",
        "\n",
        "import os\n",
        "os.environ[\"GOOGLE_API_KEY\"] = gemini_key"
      ],
      "metadata": {
        "id": "t0WpwjvTJS26"
      },
      "id": "t0WpwjvTJS26",
      "execution_count": 1,
      "outputs": []
    },
    {
      "cell_type": "code",
      "execution_count": 2,
      "id": "155d8237-dc8e-4a5c-bad0-1cbde0d9a828",
      "metadata": {
        "id": "155d8237-dc8e-4a5c-bad0-1cbde0d9a828",
        "outputId": "3dc86569-f4b7-4f89-b76e-611ee557dd16",
        "colab": {
          "base_uri": "https://localhost:8080/"
        }
      },
      "outputs": [
        {
          "output_type": "stream",
          "name": "stderr",
          "text": [
            "/usr/local/lib/python3.11/dist-packages/pydantic/_internal/_generate_schema.py:502: UserWarning: <built-in function any> is not a Python type (it may be an instance of an object), Pydantic will allow any object with no validation since we cannot even enforce that the input is an instance of the given type. To get rid of this error wrap the type with `pydantic.SkipValidation`.\n",
            "  warn(\n"
          ]
        },
        {
          "output_type": "stream",
          "name": "stdout",
          "text": [
            "candidates=[Candidate(content=Content(parts=[Part(video_metadata=None, thought=None, code_execution_result=None, executable_code=None, file_data=None, function_call=None, function_response=None, inline_data=None, text='Okay, this is a tough one, as \"best\" is subjective and depends on criteria (stats, impact, longevity, etc.).  But, based on a combination of factors, here\\'s my list of five cricketers who are widely considered among the all-time greats, acknowledging that many other deserving players could be included:\\n\\n1.  **Sir Donald Bradman (Australia):**  Simply put, his Test batting average of 99.94 is statistically unmatched and considered an almost impossible benchmark.  His dominance in his era is legendary.\\n\\n2.  **Sachin Tendulkar (India):**  The \"God of Cricket,\" Sachin holds numerous records in both Test and ODI formats, including most runs and most centuries.  His longevity, sheer volume of runs, and the pressure he played under in a cricket-mad nation make him a giant.\\n\\n3.  **Sir Garfield Sobers (West Indies):**  A true all-rounder, Sobers excelled at batting, bowling (both pace and spin), and fielding.  He captained the West Indies with distinction and is considered by many as the most complete cricketer ever.\\n\\n4. **Shane Warne (Australia):** Widely regarded as the greatest leg-spinner of all time, Warne revitalized the art of spin bowling.  He took over 700 Test wickets and was a key member of dominant Australian teams.  His impact on the game extended beyond statistics, inspiring generations of spinners.\\n\\n5. **Jacques Kallis (South Africa):** The greatest all-rounder since Sobers, Kallis excelled in all three facets of the game. He was one of the best batsmen of his generation, an accurate seam bowler, and a brilliant slip fielder. His record is outstanding and proves his value for all the teams he played for.\\n\\n**Important Considerations:**\\n\\n*   **Era:**  It\\'s difficult to directly compare players from different eras due to changes in playing conditions, rules, and competition.\\n*   **Format:** Some players excel in Tests, while others are better suited for ODIs or T20s.\\n*   **Subjectivity:** Ultimately, \"best\" is a matter of opinion. This list reflects a common consensus among many cricket fans and analysts, but others may have different views.\\n\\nThis list could easily include names like Vivian Richards, Muttiah Muralitharan, Wasim Akram, Virat Kohli, Steve Smith and many more. It just highlights the wealth of talent there has been across the history of cricket.\\n')], role='model'), citation_metadata=None, finish_message=None, token_count=None, avg_logprobs=-0.41836795843354146, finish_reason=<FinishReason.STOP: 'STOP'>, grounding_metadata=None, index=None, logprobs_result=None, safety_ratings=None)] model_version='gemini-2.0-flash' prompt_feedback=None usage_metadata=GenerateContentResponseUsageMetadata(cached_content_token_count=None, candidates_token_count=523, prompt_token_count=6, total_token_count=529) automatic_function_calling_history=[] parsed=None\n"
          ]
        }
      ],
      "source": [
        "from google import genai\n",
        "\n",
        "client = genai.Client(api_key=gemini_key)\n",
        "response = client.models.generate_content(\n",
        "    model=\"gemini-2.0-flash\",\n",
        "    contents=\"Give me Top Five Cricketers\",\n",
        ")\n",
        "\n",
        "print(response)"
      ]
    },
    {
      "cell_type": "code",
      "execution_count": null,
      "id": "42d58a78-aec8-4da6-8616-972784e4a56a",
      "metadata": {
        "id": "42d58a78-aec8-4da6-8616-972784e4a56a"
      },
      "outputs": [],
      "source": []
    }
  ],
  "metadata": {
    "kernelspec": {
      "display_name": "Python [conda env:base] *",
      "language": "python",
      "name": "conda-base-py"
    },
    "language_info": {
      "codemirror_mode": {
        "name": "ipython",
        "version": 3
      },
      "file_extension": ".py",
      "mimetype": "text/x-python",
      "name": "python",
      "nbconvert_exporter": "python",
      "pygments_lexer": "ipython3",
      "version": "3.12.7"
    },
    "colab": {
      "provenance": [],
      "include_colab_link": true
    }
  },
  "nbformat": 4,
  "nbformat_minor": 5
}