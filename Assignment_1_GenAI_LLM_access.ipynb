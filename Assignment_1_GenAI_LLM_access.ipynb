{
  "cells": [
    {
      "cell_type": "markdown",
      "metadata": {
        "id": "view-in-github",
        "colab_type": "text"
      },
      "source": [
        "<a href=\"https://colab.research.google.com/github/shabhash497/GENAI/blob/main/Assignment_1_GenAI_LLM_access.ipynb\" target=\"_parent\"><img src=\"https://colab.research.google.com/assets/colab-badge.svg\" alt=\"Open In Colab\"/></a>"
      ]
    },
    {
      "cell_type": "markdown",
      "source": [
        "**To Get API Keys & values set under secrets**"
      ],
      "metadata": {
        "id": "L3t7OBqy1C1P"
      },
      "id": "L3t7OBqy1C1P"
    },
    {
      "cell_type": "code",
      "source": [],
      "metadata": {
        "id": "dWQi_UQ01vIE"
      },
      "id": "dWQi_UQ01vIE",
      "execution_count": null,
      "outputs": []
    },
    {
      "cell_type": "code",
      "execution_count": null,
      "id": "17c4c60d-0092-4f92-aa30-0d6d7d0d4b1d",
      "metadata": {
        "id": "17c4c60d-0092-4f92-aa30-0d6d7d0d4b1d"
      },
      "outputs": [],
      "source": [
        "import os\n",
        "from google.colab import userdata\n",
        "gemini_key=userdata.get('gemini_key')\n",
        "os.environ[\"GOOGLE_API_KEY\"] = gemini_key"
      ]
    },
    {
      "cell_type": "markdown",
      "source": [
        "**sample code to access the Gemini Model**"
      ],
      "metadata": {
        "id": "rEslXea-2YzA"
      },
      "id": "rEslXea-2YzA"
    },
    {
      "cell_type": "code",
      "source": [
        "llm = LLM(model=\"gemini/gemini-1.5-flash\",\n",
        "          verbose=True,\n",
        "          temperature=0.5,\n",
        "          api_key=os.environ[\"GOOGLE_API_KEY\"])"
      ],
      "metadata": {
        "id": "Q2NJfUCT1GUl"
      },
      "id": "Q2NJfUCT1GUl",
      "execution_count": null,
      "outputs": []
    }
  ],
  "metadata": {
    "kernelspec": {
      "display_name": "",
      "name": ""
    },
    "language_info": {
      "name": ""
    },
    "colab": {
      "provenance": [],
      "include_colab_link": true
    }
  },
  "nbformat": 4,
  "nbformat_minor": 5
}